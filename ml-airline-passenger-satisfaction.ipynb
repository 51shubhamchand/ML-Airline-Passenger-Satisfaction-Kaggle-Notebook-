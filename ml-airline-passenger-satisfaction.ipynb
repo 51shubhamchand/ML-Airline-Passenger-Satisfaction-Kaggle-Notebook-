{
 "cells": [
  {
   "cell_type": "code",
   "execution_count": 1,
   "metadata": {
    "_cell_guid": "b1076dfc-b9ad-4769-8c92-a6c4dae69d19",
    "_uuid": "8f2839f25d086af736a60e9eeb907d3b93b6e0e5",
    "execution": {
     "iopub.execute_input": "2022-09-02T20:49:21.752528Z",
     "iopub.status.busy": "2022-09-02T20:49:21.751743Z",
     "iopub.status.idle": "2022-09-02T20:49:21.765848Z",
     "shell.execute_reply": "2022-09-02T20:49:21.766741Z",
     "shell.execute_reply.started": "2022-09-02T20:46:51.452790Z"
    },
    "papermill": {
     "duration": 0.031405,
     "end_time": "2022-09-02T20:49:21.767209",
     "exception": false,
     "start_time": "2022-09-02T20:49:21.735804",
     "status": "completed"
    },
    "tags": []
   },
   "outputs": [
    {
     "name": "stdout",
     "output_type": "stream",
     "text": [
      "/kaggle/input/airline-passenger-satisfaction/train.csv\n",
      "/kaggle/input/airline-passenger-satisfaction/test.csv\n"
     ]
    }
   ],
   "source": [
    "# This Python 3 environment comes with many helpful analytics libraries installed\n",
    "# It is defined by the kaggle/python Docker image: https://github.com/kaggle/docker-python\n",
    "# For example, here's several helpful packages to load\n",
    "\n",
    "import numpy as np # linear algebra\n",
    "import pandas as pd # data processing, CSV file I/O (e.g. pd.read_csv)\n",
    "\n",
    "# Input data files are available in the read-only \"../input/\" directory\n",
    "# For example, running this (by clicking run or pressing Shift+Enter) will list all files under the input directory\n",
    "\n",
    "import os\n",
    "for dirname, _, filenames in os.walk('/kaggle/input'):\n",
    "    for filename in filenames:\n",
    "        print(os.path.join(dirname, filename))\n",
    "\n",
    "# You can write up to 20GB to the current directory (/kaggle/working/) that gets preserved as output when you create a version using \"Save & Run All\" \n",
    "# You can also write temporary files to /kaggle/temp/, but they won't be saved outside of the current session"
   ]
  },
  {
   "cell_type": "code",
   "execution_count": 2,
   "metadata": {
    "execution": {
     "iopub.execute_input": "2022-09-02T20:49:21.794107Z",
     "iopub.status.busy": "2022-09-02T20:49:21.793383Z",
     "iopub.status.idle": "2022-09-02T20:49:22.365800Z",
     "shell.execute_reply": "2022-09-02T20:49:22.366926Z",
     "shell.execute_reply.started": "2022-09-02T20:46:51.462547Z"
    },
    "papermill": {
     "duration": 0.587783,
     "end_time": "2022-09-02T20:49:22.367152",
     "exception": false,
     "start_time": "2022-09-02T20:49:21.779369",
     "status": "completed"
    },
    "tags": []
   },
   "outputs": [],
   "source": [
    "# reading the train and test datasets\n",
    "train = pd.read_csv('/kaggle/input/airline-passenger-satisfaction/train.csv', index_col = 0)\n",
    "test = pd.read_csv('/kaggle/input/airline-passenger-satisfaction/test.csv', index_col = 0)"
   ]
  },
  {
   "cell_type": "code",
   "execution_count": 3,
   "metadata": {
    "execution": {
     "iopub.execute_input": "2022-09-02T20:49:22.394367Z",
     "iopub.status.busy": "2022-09-02T20:49:22.393596Z",
     "iopub.status.idle": "2022-09-02T20:49:22.399978Z",
     "shell.execute_reply": "2022-09-02T20:49:22.399437Z",
     "shell.execute_reply.started": "2022-09-02T20:46:51.814904Z"
    },
    "papermill": {
     "duration": 0.019796,
     "end_time": "2022-09-02T20:49:22.400127",
     "exception": false,
     "start_time": "2022-09-02T20:49:22.380331",
     "status": "completed"
    },
    "tags": []
   },
   "outputs": [
    {
     "name": "stdout",
     "output_type": "stream",
     "text": [
      "(103904, 24)\n",
      "(25976, 24)\n"
     ]
    }
   ],
   "source": [
    "# Checking shape of data\n",
    "print(train.shape)\n",
    "print(test.shape)"
   ]
  },
  {
   "cell_type": "code",
   "execution_count": 4,
   "metadata": {
    "execution": {
     "iopub.execute_input": "2022-09-02T20:49:22.427522Z",
     "iopub.status.busy": "2022-09-02T20:49:22.426517Z",
     "iopub.status.idle": "2022-09-02T20:49:22.492975Z",
     "shell.execute_reply": "2022-09-02T20:49:22.493978Z",
     "shell.execute_reply.started": "2022-09-02T20:46:51.822750Z"
    },
    "papermill": {
     "duration": 0.082108,
     "end_time": "2022-09-02T20:49:22.494264",
     "exception": false,
     "start_time": "2022-09-02T20:49:22.412156",
     "status": "completed"
    },
    "tags": []
   },
   "outputs": [
    {
     "name": "stdout",
     "output_type": "stream",
     "text": [
      "<class 'pandas.core.frame.DataFrame'>\n",
      "Int64Index: 103904 entries, 0 to 103903\n",
      "Data columns (total 24 columns):\n",
      " #   Column                             Non-Null Count   Dtype  \n",
      "---  ------                             --------------   -----  \n",
      " 0   id                                 103904 non-null  int64  \n",
      " 1   Gender                             103904 non-null  object \n",
      " 2   Customer Type                      103904 non-null  object \n",
      " 3   Age                                103904 non-null  int64  \n",
      " 4   Type of Travel                     103904 non-null  object \n",
      " 5   Class                              103904 non-null  object \n",
      " 6   Flight Distance                    103904 non-null  int64  \n",
      " 7   Inflight wifi service              103904 non-null  int64  \n",
      " 8   Departure/Arrival time convenient  103904 non-null  int64  \n",
      " 9   Ease of Online booking             103904 non-null  int64  \n",
      " 10  Gate location                      103904 non-null  int64  \n",
      " 11  Food and drink                     103904 non-null  int64  \n",
      " 12  Online boarding                    103904 non-null  int64  \n",
      " 13  Seat comfort                       103904 non-null  int64  \n",
      " 14  Inflight entertainment             103904 non-null  int64  \n",
      " 15  On-board service                   103904 non-null  int64  \n",
      " 16  Leg room service                   103904 non-null  int64  \n",
      " 17  Baggage handling                   103904 non-null  int64  \n",
      " 18  Checkin service                    103904 non-null  int64  \n",
      " 19  Inflight service                   103904 non-null  int64  \n",
      " 20  Cleanliness                        103904 non-null  int64  \n",
      " 21  Departure Delay in Minutes         103904 non-null  int64  \n",
      " 22  Arrival Delay in Minutes           103594 non-null  float64\n",
      " 23  satisfaction                       103904 non-null  object \n",
      "dtypes: float64(1), int64(18), object(5)\n",
      "memory usage: 19.8+ MB\n",
      "None\n",
      "*********************************\n",
      "<class 'pandas.core.frame.DataFrame'>\n",
      "Int64Index: 25976 entries, 0 to 25975\n",
      "Data columns (total 24 columns):\n",
      " #   Column                             Non-Null Count  Dtype  \n",
      "---  ------                             --------------  -----  \n",
      " 0   id                                 25976 non-null  int64  \n",
      " 1   Gender                             25976 non-null  object \n",
      " 2   Customer Type                      25976 non-null  object \n",
      " 3   Age                                25976 non-null  int64  \n",
      " 4   Type of Travel                     25976 non-null  object \n",
      " 5   Class                              25976 non-null  object \n",
      " 6   Flight Distance                    25976 non-null  int64  \n",
      " 7   Inflight wifi service              25976 non-null  int64  \n",
      " 8   Departure/Arrival time convenient  25976 non-null  int64  \n",
      " 9   Ease of Online booking             25976 non-null  int64  \n",
      " 10  Gate location                      25976 non-null  int64  \n",
      " 11  Food and drink                     25976 non-null  int64  \n",
      " 12  Online boarding                    25976 non-null  int64  \n",
      " 13  Seat comfort                       25976 non-null  int64  \n",
      " 14  Inflight entertainment             25976 non-null  int64  \n",
      " 15  On-board service                   25976 non-null  int64  \n",
      " 16  Leg room service                   25976 non-null  int64  \n",
      " 17  Baggage handling                   25976 non-null  int64  \n",
      " 18  Checkin service                    25976 non-null  int64  \n",
      " 19  Inflight service                   25976 non-null  int64  \n",
      " 20  Cleanliness                        25976 non-null  int64  \n",
      " 21  Departure Delay in Minutes         25976 non-null  int64  \n",
      " 22  Arrival Delay in Minutes           25893 non-null  float64\n",
      " 23  satisfaction                       25976 non-null  object \n",
      "dtypes: float64(1), int64(18), object(5)\n",
      "memory usage: 5.0+ MB\n",
      "None\n"
     ]
    }
   ],
   "source": [
    "# Checking datatype of the columns\n",
    "print(train.info())\n",
    "print(\"*********************************\")\n",
    "print(test.info())"
   ]
  },
  {
   "cell_type": "code",
   "execution_count": 5,
   "metadata": {
    "execution": {
     "iopub.execute_input": "2022-09-02T20:49:22.522078Z",
     "iopub.status.busy": "2022-09-02T20:49:22.521285Z",
     "iopub.status.idle": "2022-09-02T20:49:22.564787Z",
     "shell.execute_reply": "2022-09-02T20:49:22.563978Z",
     "shell.execute_reply.started": "2022-09-02T20:46:51.888176Z"
    },
    "papermill": {
     "duration": 0.058197,
     "end_time": "2022-09-02T20:49:22.564966",
     "exception": false,
     "start_time": "2022-09-02T20:49:22.506769",
     "status": "completed"
    },
    "tags": []
   },
   "outputs": [
    {
     "name": "stdout",
     "output_type": "stream",
     "text": [
      "id                                     0\n",
      "Gender                                 0\n",
      "Customer Type                          0\n",
      "Age                                    0\n",
      "Type of Travel                         0\n",
      "Class                                  0\n",
      "Flight Distance                        0\n",
      "Inflight wifi service                  0\n",
      "Departure/Arrival time convenient      0\n",
      "Ease of Online booking                 0\n",
      "Gate location                          0\n",
      "Food and drink                         0\n",
      "Online boarding                        0\n",
      "Seat comfort                           0\n",
      "Inflight entertainment                 0\n",
      "On-board service                       0\n",
      "Leg room service                       0\n",
      "Baggage handling                       0\n",
      "Checkin service                        0\n",
      "Inflight service                       0\n",
      "Cleanliness                            0\n",
      "Departure Delay in Minutes             0\n",
      "Arrival Delay in Minutes             310\n",
      "satisfaction                           0\n",
      "dtype: int64\n",
      "***************************\n",
      "id                                    0\n",
      "Gender                                0\n",
      "Customer Type                         0\n",
      "Age                                   0\n",
      "Type of Travel                        0\n",
      "Class                                 0\n",
      "Flight Distance                       0\n",
      "Inflight wifi service                 0\n",
      "Departure/Arrival time convenient     0\n",
      "Ease of Online booking                0\n",
      "Gate location                         0\n",
      "Food and drink                        0\n",
      "Online boarding                       0\n",
      "Seat comfort                          0\n",
      "Inflight entertainment                0\n",
      "On-board service                      0\n",
      "Leg room service                      0\n",
      "Baggage handling                      0\n",
      "Checkin service                       0\n",
      "Inflight service                      0\n",
      "Cleanliness                           0\n",
      "Departure Delay in Minutes            0\n",
      "Arrival Delay in Minutes             83\n",
      "satisfaction                          0\n",
      "dtype: int64\n"
     ]
    }
   ],
   "source": [
    "# Checking NULLs\n",
    "print(train.isnull().sum())\n",
    "print(\"***************************\")\n",
    "print(test.isnull().sum())"
   ]
  },
  {
   "cell_type": "code",
   "execution_count": 6,
   "metadata": {
    "execution": {
     "iopub.execute_input": "2022-09-02T20:49:22.593894Z",
     "iopub.status.busy": "2022-09-02T20:49:22.593057Z",
     "iopub.status.idle": "2022-09-02T20:49:22.600636Z",
     "shell.execute_reply": "2022-09-02T20:49:22.601188Z",
     "shell.execute_reply.started": "2022-09-02T20:46:51.934926Z"
    },
    "papermill": {
     "duration": 0.024227,
     "end_time": "2022-09-02T20:49:22.601403",
     "exception": false,
     "start_time": "2022-09-02T20:49:22.577176",
     "status": "completed"
    },
    "tags": []
   },
   "outputs": [],
   "source": [
    "# Removing NULLs\n",
    "train['Arrival Delay in Minutes']=train['Arrival Delay in Minutes'].fillna(train['Arrival Delay in Minutes'].mean())\n",
    "test['Arrival Delay in Minutes']=test['Arrival Delay in Minutes'].fillna(test['Arrival Delay in Minutes'].mean())"
   ]
  },
  {
   "cell_type": "code",
   "execution_count": 7,
   "metadata": {
    "execution": {
     "iopub.execute_input": "2022-09-02T20:49:22.628631Z",
     "iopub.status.busy": "2022-09-02T20:49:22.627953Z",
     "iopub.status.idle": "2022-09-02T20:49:22.693980Z",
     "shell.execute_reply": "2022-09-02T20:49:22.694554Z",
     "shell.execute_reply.started": "2022-09-02T20:46:51.944900Z"
    },
    "papermill": {
     "duration": 0.081347,
     "end_time": "2022-09-02T20:49:22.694758",
     "exception": false,
     "start_time": "2022-09-02T20:49:22.613411",
     "status": "completed"
    },
    "tags": []
   },
   "outputs": [
    {
     "name": "stdout",
     "output_type": "stream",
     "text": [
      "['neutral or dissatisfied' 'satisfied']\n",
      "['Male' 'Female']\n",
      "['Loyal Customer' 'disloyal Customer']\n",
      "['Personal Travel' 'Business travel']\n",
      "['Eco Plus' 'Business' 'Eco']\n",
      "['satisfied' 'neutral or dissatisfied']\n",
      "['Female' 'Male']\n",
      "['Loyal Customer' 'disloyal Customer']\n",
      "['Business travel' 'Personal Travel']\n",
      "['Eco' 'Business' 'Eco Plus']\n"
     ]
    }
   ],
   "source": [
    "print(train['satisfaction'].unique()) \n",
    "print(train['Gender'].unique()) \n",
    "print(train['Customer Type'].unique())  \n",
    "print(train['Type of Travel'].unique())  \n",
    "print(train['Class'].unique())  \n",
    "print(test['satisfaction'].unique())  \n",
    "print(test['Gender'].unique())  \n",
    "print(test['Customer Type'].unique())  \n",
    "print(test['Type of Travel'].unique())  \n",
    "print(test['Class'].unique()) "
   ]
  },
  {
   "cell_type": "code",
   "execution_count": 8,
   "metadata": {
    "execution": {
     "iopub.execute_input": "2022-09-02T20:49:22.724874Z",
     "iopub.status.busy": "2022-09-02T20:49:22.724203Z",
     "iopub.status.idle": "2022-09-02T20:49:23.952080Z",
     "shell.execute_reply": "2022-09-02T20:49:23.951404Z",
     "shell.execute_reply.started": "2022-09-02T20:46:52.017776Z"
    },
    "papermill": {
     "duration": 1.243531,
     "end_time": "2022-09-02T20:49:23.952273",
     "exception": false,
     "start_time": "2022-09-02T20:49:22.708742",
     "status": "completed"
    },
    "tags": []
   },
   "outputs": [],
   "source": [
    "from sklearn.preprocessing import LabelEncoder\n",
    "label = LabelEncoder()\n",
    "train['satisfaction']=label.fit_transform(train['satisfaction'])\n",
    "train['Gender']=label.fit_transform(train['Gender'])\n",
    "train['Customer Type']=label.fit_transform(train['Customer Type'])\n",
    "train['Type of Travel']=label.fit_transform(train['Type of Travel'])\n",
    "train['Class']=label.fit_transform(train['Class'])\n",
    "test['satisfaction']=label.fit_transform(test['satisfaction'])\n",
    "test['Gender']=label.fit_transform(test['Gender'])\n",
    "test['Customer Type']=label.fit_transform(test['Customer Type'])\n",
    "test['Type of Travel']=label.fit_transform(test['Type of Travel'])\n",
    "test['Class']=label.fit_transform(test['Class'])"
   ]
  },
  {
   "cell_type": "code",
   "execution_count": 9,
   "metadata": {
    "execution": {
     "iopub.execute_input": "2022-09-02T20:49:23.992240Z",
     "iopub.status.busy": "2022-09-02T20:49:23.991476Z",
     "iopub.status.idle": "2022-09-02T20:49:24.035132Z",
     "shell.execute_reply": "2022-09-02T20:49:24.034540Z",
     "shell.execute_reply.started": "2022-09-02T20:46:52.210829Z"
    },
    "papermill": {
     "duration": 0.066337,
     "end_time": "2022-09-02T20:49:24.035339",
     "exception": false,
     "start_time": "2022-09-02T20:49:23.969002",
     "status": "completed"
    },
    "tags": []
   },
   "outputs": [],
   "source": [
    "# Splitting data into input and output\n",
    "x_train=train.drop(['satisfaction'], axis=1)\n",
    "y_train=train['satisfaction']\n",
    "\n",
    "x_test=test.drop(['satisfaction'], axis=1)\n",
    "y_test=test['satisfaction']"
   ]
  },
  {
   "cell_type": "code",
   "execution_count": 10,
   "metadata": {
    "execution": {
     "iopub.execute_input": "2022-09-02T20:49:24.065267Z",
     "iopub.status.busy": "2022-09-02T20:49:24.064203Z",
     "iopub.status.idle": "2022-09-02T20:49:31.987294Z",
     "shell.execute_reply": "2022-09-02T20:49:31.988432Z",
     "shell.execute_reply.started": "2022-09-02T20:46:52.250909Z"
    },
    "papermill": {
     "duration": 7.940726,
     "end_time": "2022-09-02T20:49:31.988677",
     "exception": false,
     "start_time": "2022-09-02T20:49:24.047951",
     "status": "completed"
    },
    "tags": []
   },
   "outputs": [
    {
     "name": "stdout",
     "output_type": "stream",
     "text": [
      "[20:49:24] WARNING: ../src/learner.cc:1061: Starting in XGBoost 1.3.0, the default evaluation metric used with the objective 'binary:logistic' was changed from 'error' to 'logloss'. Explicitly set eval_metric if you'd like to restore the old behavior.\n",
      "Accuracy Score 0.964621188789652\n"
     ]
    }
   ],
   "source": [
    "from xgboost import XGBClassifier\n",
    "model = XGBClassifier(use_label_encoder=False)\n",
    "model.fit(x_train, y_train)\n",
    "\n",
    "y_pred=model.predict(x_test)\n",
    "\n",
    "from sklearn import metrics\n",
    "print(\"Accuracy Score\", metrics.accuracy_score(y_test, y_pred))"
   ]
  },
  {
   "cell_type": "code",
   "execution_count": 11,
   "metadata": {
    "execution": {
     "iopub.execute_input": "2022-09-02T20:49:32.025746Z",
     "iopub.status.busy": "2022-09-02T20:49:32.024839Z",
     "iopub.status.idle": "2022-09-02T20:49:40.333166Z",
     "shell.execute_reply": "2022-09-02T20:49:40.333718Z",
     "shell.execute_reply.started": "2022-09-02T20:47:00.560367Z"
    },
    "papermill": {
     "duration": 8.329267,
     "end_time": "2022-09-02T20:49:40.333938",
     "exception": false,
     "start_time": "2022-09-02T20:49:32.004671",
     "status": "completed"
    },
    "tags": []
   },
   "outputs": [
    {
     "name": "stdout",
     "output_type": "stream",
     "text": [
      "Accuracy Score 0.9285109331690792\n"
     ]
    }
   ],
   "source": [
    "from sklearn.ensemble import AdaBoostClassifier\n",
    "model = AdaBoostClassifier()\n",
    "model.fit(x_train, y_train)\n",
    "\n",
    "y_pred=model.predict(x_test)\n",
    "\n",
    "from sklearn import metrics\n",
    "print(\"Accuracy Score\", metrics.accuracy_score(y_test, y_pred))"
   ]
  },
  {
   "cell_type": "code",
   "execution_count": 12,
   "metadata": {
    "execution": {
     "iopub.execute_input": "2022-09-02T20:49:40.372166Z",
     "iopub.status.busy": "2022-09-02T20:49:40.370718Z",
     "iopub.status.idle": "2022-09-02T20:50:01.892691Z",
     "shell.execute_reply": "2022-09-02T20:50:01.893344Z",
     "shell.execute_reply.started": "2022-09-02T20:47:08.213524Z"
    },
    "papermill": {
     "duration": 21.544265,
     "end_time": "2022-09-02T20:50:01.893552",
     "exception": false,
     "start_time": "2022-09-02T20:49:40.349287",
     "status": "completed"
    },
    "tags": []
   },
   "outputs": [
    {
     "name": "stdout",
     "output_type": "stream",
     "text": [
      "Accuracy Score 0.9644287034185401\n"
     ]
    }
   ],
   "source": [
    "from sklearn.ensemble import RandomForestClassifier\n",
    "model = RandomForestClassifier()\n",
    "model.fit(x_train, y_train)\n",
    "\n",
    "y_pred=model.predict(x_test)\n",
    "\n",
    "from sklearn import metrics\n",
    "print(\"Accuracy Score\", metrics.accuracy_score(y_test, y_pred))"
   ]
  },
  {
   "cell_type": "code",
   "execution_count": 13,
   "metadata": {
    "execution": {
     "iopub.execute_input": "2022-09-02T20:50:01.931644Z",
     "iopub.status.busy": "2022-09-02T20:50:01.930910Z",
     "iopub.status.idle": "2022-09-02T20:50:03.215557Z",
     "shell.execute_reply": "2022-09-02T20:50:03.216317Z",
     "shell.execute_reply.started": "2022-09-02T20:47:28.565813Z"
    },
    "papermill": {
     "duration": 1.309369,
     "end_time": "2022-09-02T20:50:03.216589",
     "exception": false,
     "start_time": "2022-09-02T20:50:01.907220",
     "status": "completed"
    },
    "tags": []
   },
   "outputs": [
    {
     "name": "stdout",
     "output_type": "stream",
     "text": [
      "Accuracy Score 0.9461425931629196\n"
     ]
    }
   ],
   "source": [
    "from sklearn.tree import DecisionTreeClassifier\n",
    "model = DecisionTreeClassifier()\n",
    "model.fit(x_train, y_train)\n",
    "\n",
    "y_pred=model.predict(x_test)\n",
    "\n",
    "from sklearn import metrics\n",
    "print(\"Accuracy Score\", metrics.accuracy_score(y_test, y_pred))"
   ]
  },
  {
   "cell_type": "code",
   "execution_count": 14,
   "metadata": {
    "execution": {
     "iopub.execute_input": "2022-09-02T20:50:03.250994Z",
     "iopub.status.busy": "2022-09-02T20:50:03.250161Z",
     "iopub.status.idle": "2022-09-02T20:50:03.252900Z",
     "shell.execute_reply": "2022-09-02T20:50:03.253403Z"
    },
    "papermill": {
     "duration": 0.022248,
     "end_time": "2022-09-02T20:50:03.253603",
     "exception": false,
     "start_time": "2022-09-02T20:50:03.231355",
     "status": "completed"
    },
    "tags": []
   },
   "outputs": [],
   "source": [
    "# use PCA"
   ]
  }
 ],
 "metadata": {
  "kernelspec": {
   "display_name": "Python 3",
   "language": "python",
   "name": "python3"
  },
  "language_info": {
   "codemirror_mode": {
    "name": "ipython",
    "version": 3
   },
   "file_extension": ".py",
   "mimetype": "text/x-python",
   "name": "python",
   "nbconvert_exporter": "python",
   "pygments_lexer": "ipython3",
   "version": "3.7.9"
  },
  "papermill": {
   "default_parameters": {},
   "duration": 48.307836,
   "end_time": "2022-09-02T20:50:03.979035",
   "environment_variables": {},
   "exception": null,
   "input_path": "__notebook__.ipynb",
   "output_path": "__notebook__.ipynb",
   "parameters": {},
   "start_time": "2022-09-02T20:49:15.671199",
   "version": "2.2.2"
  }
 },
 "nbformat": 4,
 "nbformat_minor": 4
}
